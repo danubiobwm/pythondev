{
 "cells": [
  {
   "cell_type": "code",
   "execution_count": 1,
   "id": "0cacd847",
   "metadata": {},
   "outputs": [],
   "source": [
    "import re"
   ]
  },
  {
   "cell_type": "code",
   "execution_count": 22,
   "id": "4c632908",
   "metadata": {},
   "outputs": [],
   "source": [
    "def validar_contatos(contatos):\n",
    "    \"\"\"\n",
    "    Valida se o contato é um número de telefone ou um e-mail.\n",
    "    :param contato: string com o contato a ser validado\n",
    "    :return: True se o contato for válido, False caso contrário\n",
    "    \"\"\"\n",
    "    name = r\"Nome:\\s*([A-Za-z\\s]+)\"\n",
    "    telefone = r\"Telefone:\\s*\\(\\d{2}\\)\\s*\\d{4,5}-\\d{4}\"\n",
    "    email_regex = re.compile(r'^[a-zA-Z0-9_.+-]+@[a-zA-Z0-9-]+\\.[a-zA-Z0-9-.]+$')\n",
    "\n",
    "    for contato in contatos:\n",
    "        name_match = re.search(name, contato)\n",
    "        telefone_match = re.search(telefone, contato)\n",
    "        email_match = re.search(email_regex, contato)\n",
    "        if name_match and telefone_match and email_match:\n",
    "            print(f\"Contato válido: {contato}\")\n",
    "        else:\n",
    "            print(f\"Contato inválido: {contato}\")\n"
   ]
  },
  {
   "cell_type": "code",
   "execution_count": 25,
   "id": "74187d77",
   "metadata": {},
   "outputs": [],
   "source": [
    "contatos_exemplo = [\n",
    "    \"Nome: João da Silva\\nTelefone: (11) 98765-4321\\nE-mail:joao@gmail.com\",\n",
    "    \"Nome: Maria Oliveira\\nTelefone: (21) 1234-5678\\nE-mail:maria@outlook.com\",\n",
    "    \"Nome: Pedro Santos\\nTelefone: (31)9876-5432\\nE-mail:pedro@yahoo.com\",\n",
    "    \"Nome: Ana Costa\\nTelefone: (41)1234-5678\\nE-mail:anacosto@gmail.com\"]\n",
    "\n"
   ]
  },
  {
   "cell_type": "code",
   "execution_count": 26,
   "id": "e65c33ba",
   "metadata": {},
   "outputs": [
    {
     "name": "stdout",
     "output_type": "stream",
     "text": [
      "Contato inválido: Nome: João da Silva\n",
      "Telefone: (11) 98765-4321\n",
      "E-mail:joao@gmail.com\n",
      "Contato inválido: Nome: Maria Oliveira\n",
      "Telefone: (21) 1234-5678\n",
      "E-mail:maria@outlook.com\n",
      "Contato inválido: Nome: Pedro Santos\n",
      "Telefone: (31)9876-5432\n",
      "E-mail:pedro@yahoo.com\n",
      "Contato inválido: Nome: Ana Costa\n",
      "Telefone: (41)1234-5678\n",
      "E-mail:anacosto@gmail.com\n"
     ]
    }
   ],
   "source": [
    "validar_contatos(contatos_exemplo)"
   ]
  }
 ],
 "metadata": {
  "kernelspec": {
   "display_name": "Python 3",
   "language": "python",
   "name": "python3"
  },
  "language_info": {
   "codemirror_mode": {
    "name": "ipython",
    "version": 3
   },
   "file_extension": ".py",
   "mimetype": "text/x-python",
   "name": "python",
   "nbconvert_exporter": "python",
   "pygments_lexer": "ipython3",
   "version": "3.12.6"
  }
 },
 "nbformat": 4,
 "nbformat_minor": 5
}
