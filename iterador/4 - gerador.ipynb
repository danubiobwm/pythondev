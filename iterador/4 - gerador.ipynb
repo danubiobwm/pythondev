{
 "cells": [
  {
   "cell_type": "code",
   "execution_count": 2,
   "id": "b64bae14",
   "metadata": {},
   "outputs": [],
   "source": [
    "def numeros_impares(n):\n",
    "  for i in range(1, n+1, 2):\n",
    "    yield i"
   ]
  },
  {
   "cell_type": "code",
   "execution_count": 3,
   "id": "116056ca",
   "metadata": {},
   "outputs": [
    {
     "name": "stdout",
     "output_type": "stream",
     "text": [
      "1\n",
      "3\n",
      "5\n",
      "7\n",
      "9\n"
     ]
    }
   ],
   "source": [
    "for numeros_impares in numeros_impares(10):\n",
    "  print(numeros_impares)"
   ]
  }
 ],
 "metadata": {
  "kernelspec": {
   "display_name": "Python 3",
   "language": "python",
   "name": "python3"
  },
  "language_info": {
   "codemirror_mode": {
    "name": "ipython",
    "version": 3
   },
   "file_extension": ".py",
   "mimetype": "text/x-python",
   "name": "python",
   "nbconvert_exporter": "python",
   "pygments_lexer": "ipython3",
   "version": "3.12.6"
  }
 },
 "nbformat": 4,
 "nbformat_minor": 5
}
