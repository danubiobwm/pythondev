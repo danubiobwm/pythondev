{
 "cells": [
  {
   "cell_type": "code",
   "execution_count": 8,
   "id": "e5d74891",
   "metadata": {},
   "outputs": [],
   "source": [
    "def e_par(x):\n",
    "    \"\"\"\n",
    "    This function takes a number and returns True if it is even, False otherwise.\n",
    "    \"\"\"\n",
    "    return x % 2 == 0"
   ]
  },
  {
   "cell_type": "code",
   "execution_count": 9,
   "id": "c49c7aa7",
   "metadata": {},
   "outputs": [],
   "source": [
    "numeros =  [1, 2, 3, 4, 5, 6, 7, 8, 9, 10]\n"
   ]
  },
  {
   "cell_type": "code",
   "execution_count": 11,
   "id": "6c7e14b5",
   "metadata": {},
   "outputs": [
    {
     "data": {
      "text/plain": [
       "[2, 4, 6, 8, 10]"
      ]
     },
     "execution_count": 11,
     "metadata": {},
     "output_type": "execute_result"
    }
   ],
   "source": [
    "numeros_pares = filter(e_par, numeros)\n",
    "list(numeros_pares)"
   ]
  },
  {
   "cell_type": "code",
   "execution_count": 13,
   "id": "064a3b14",
   "metadata": {},
   "outputs": [],
   "source": [
    "produtos = [{'produto A': 'banana', 'preco': 2.5, 'estoque': True },\n",
    "           {'produto B': 'maçã', 'preco': 3.0, 'estoque': False },\n",
    "           {'produto C': 'laranja', 'preco': 1.5, 'estoque': True},\n",
    "           {'produto D': 'uva', 'preco': 4.0, 'estoque': False}]\n"
   ]
  },
  {
   "cell_type": "code",
   "execution_count": 14,
   "id": "95fa5537",
   "metadata": {},
   "outputs": [],
   "source": [
    "def produto_estoque(produto):\n",
    "    \"\"\"\n",
    "    This function checks if a product is in stock.\n",
    "    \"\"\"\n",
    "    return produto['estoque'] == True"
   ]
  },
  {
   "cell_type": "code",
   "execution_count": 16,
   "id": "56b0ba7d",
   "metadata": {},
   "outputs": [
    {
     "name": "stdout",
     "output_type": "stream",
     "text": [
      "[{'produto A': 'banana', 'preco': 2.5, 'estoque': True}, {'produto C': 'laranja', 'preco': 1.5, 'estoque': True}]\n"
     ]
    }
   ],
   "source": [
    "produtos_disponiveis = filter(produto_estoque, produtos)\n",
    "produtos_disponiveis = list(produtos_disponiveis)\n",
    "print(produtos_disponiveis)"
   ]
  },
  {
   "cell_type": "code",
   "execution_count": 17,
   "id": "7dacc0ac",
   "metadata": {},
   "outputs": [],
   "source": [
    "transacoes = [200.0, -150.0, 300.0, -50.0, 100.0, -200.0, 400.0, -100.0]\n"
   ]
  },
  {
   "cell_type": "code",
   "execution_count": 21,
   "id": "43b251de",
   "metadata": {},
   "outputs": [],
   "source": [
    "def transacao_positiva(transacao):\n",
    "    \"\"\"\n",
    "    This function checks if a transaction is positive.\n",
    "    \"\"\"\n",
    "    return transacao < 0"
   ]
  },
  {
   "cell_type": "code",
   "execution_count": 22,
   "id": "4321e288",
   "metadata": {},
   "outputs": [
    {
     "data": {
      "text/plain": [
       "[-150.0, -50.0, -200.0, -100.0]"
      ]
     },
     "execution_count": 22,
     "metadata": {},
     "output_type": "execute_result"
    }
   ],
   "source": [
    "despesas = filter(transacao_positiva, transacoes)\n",
    "list(despesas)"
   ]
  }
 ],
 "metadata": {
  "kernelspec": {
   "display_name": "Python 3",
   "language": "python",
   "name": "python3"
  },
  "language_info": {
   "codemirror_mode": {
    "name": "ipython",
    "version": 3
   },
   "file_extension": ".py",
   "mimetype": "text/x-python",
   "name": "python",
   "nbconvert_exporter": "python",
   "pygments_lexer": "ipython3",
   "version": "3.12.6"
  }
 },
 "nbformat": 4,
 "nbformat_minor": 5
}
