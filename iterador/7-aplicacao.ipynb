{
 "cells": [
  {
   "cell_type": "code",
   "execution_count": 12,
   "id": "6020bd76",
   "metadata": {},
   "outputs": [],
   "source": [
    "from unicodedata import category\n",
    "\n",
    "\n",
    "class VendasIterator:\n",
    "    def __init__(self, arquivo):\n",
    "      self.arquivo = arquivo\n",
    "      self.file = open(arquivo, 'r', encoding='utf-8')\n",
    "\n",
    "    def __iter__(self):\n",
    "      return self\n",
    "\n",
    "    def __next__(self):\n",
    "      linha = self.file.readline()\n",
    "      if not linha:\n",
    "        self.file.close()\n",
    "        raise StopIteration\n",
    "      categoria, valor = linha.strip().split(',')\n",
    "      return categoria, float(valor)\n",
    "\n",
    "\n"
   ]
  },
  {
   "cell_type": "code",
   "execution_count": 13,
   "id": "0c5a5314",
   "metadata": {},
   "outputs": [],
   "source": [
    "def gerador_soma_vendas(arquivo):\n",
    "  total_vendas = 0\n",
    "  for categoria, valor in VendasIterator(arquivo):\n",
    "      total_vendas += valor\n",
    "      yield categoria, valor, total_vendas\n",
    "  yield 'Total', None, total_vendas"
   ]
  },
  {
   "cell_type": "code",
   "execution_count": 14,
   "id": "7bcd688c",
   "metadata": {},
   "outputs": [
    {
     "name": "stdout",
     "output_type": "stream",
     "text": [
      "Processando vendas...\n",
      "Categoria: Eletrônicos, Valor: R$300.00\n",
      "Categoria: Eletrônicos, Contagem: 1\n",
      "Total de vendas: R$300.00\n",
      "Categoria: Roupas, Valor: R$150.00\n",
      "Categoria: Eletrônicos, Contagem: 1\n",
      "Categoria: Roupas, Contagem: 1\n",
      "Total de vendas: R$450.00\n",
      "Categoria: Roupas, Valor: R$150.00\n",
      "Categoria: Eletrônicos, Contagem: 1\n",
      "Categoria: Roupas, Contagem: 2\n",
      "Total de vendas: R$600.00\n",
      "Categoria: Alimentos, Valor: R$450.00\n",
      "Categoria: Eletrônicos, Contagem: 1\n",
      "Categoria: Roupas, Contagem: 2\n",
      "Categoria: Alimentos, Contagem: 1\n",
      "Total de vendas: R$1050.00\n",
      "Categoria: Jogos, Valor: R$100.00\n",
      "Categoria: Eletrônicos, Contagem: 1\n",
      "Categoria: Roupas, Contagem: 2\n",
      "Categoria: Alimentos, Contagem: 1\n",
      "Categoria: Jogos, Contagem: 1\n",
      "Total de vendas: R$1150.00\n",
      "Categoria: Peças, Valor: R$200.00\n",
      "Categoria: Eletrônicos, Contagem: 1\n",
      "Categoria: Roupas, Contagem: 2\n",
      "Categoria: Alimentos, Contagem: 1\n",
      "Categoria: Jogos, Contagem: 1\n",
      "Categoria: Peças, Contagem: 1\n",
      "Total de vendas: R$1350.00\n",
      "Categoria: Chocolates, Valor: R$250.00\n",
      "Categoria: Eletrônicos, Contagem: 1\n",
      "Categoria: Roupas, Contagem: 2\n",
      "Categoria: Alimentos, Contagem: 1\n",
      "Categoria: Jogos, Contagem: 1\n",
      "Categoria: Peças, Contagem: 1\n",
      "Categoria: Chocolates, Contagem: 1\n",
      "Total de vendas: R$1600.00\n",
      "Categoria: Eletrônicos, Valor: R$100.00\n",
      "Categoria: Eletrônicos, Contagem: 2\n",
      "Categoria: Roupas, Contagem: 2\n",
      "Categoria: Alimentos, Contagem: 1\n",
      "Categoria: Jogos, Contagem: 1\n",
      "Categoria: Peças, Contagem: 1\n",
      "Categoria: Chocolates, Contagem: 1\n",
      "Total de vendas: R$1700.00\n",
      "Total de vendas: R$1700.00\n"
     ]
    }
   ],
   "source": [
    "contagem_vendas = {}\n",
    "arquivo = 'vendas.txt'\n",
    "print(\"Processando vendas...\")\n",
    "for categoria, valor, total in gerador_soma_vendas(arquivo):\n",
    "  if categoria == 'Total':\n",
    "    print(f\"Total de vendas: R${total:.2f}\")\n",
    "    break\n",
    "  if valor is not None:\n",
    "    print(f\"Categoria: {categoria}, Valor: R${valor:.2f}\")\n",
    "  # Atualiza a contagem de vendas por categoria\n",
    "\n",
    "  if categoria not in contagem_vendas:\n",
    "    contagem_vendas[categoria] = 0\n",
    "  contagem_vendas[categoria] += 1\n",
    "\n",
    "  for cat, count in contagem_vendas.items():\n",
    "    print(f\"Categoria: {cat}, Contagem: {count}\")\n",
    "  print(f\"Total de vendas: R${total:.2f}\")\n"
   ]
  }
 ],
 "metadata": {
  "kernelspec": {
   "display_name": "Python 3",
   "language": "python",
   "name": "python3"
  },
  "language_info": {
   "codemirror_mode": {
    "name": "ipython",
    "version": 3
   },
   "file_extension": ".py",
   "mimetype": "text/x-python",
   "name": "python",
   "nbconvert_exporter": "python",
   "pygments_lexer": "ipython3",
   "version": "3.12.6"
  }
 },
 "nbformat": 4,
 "nbformat_minor": 5
}
