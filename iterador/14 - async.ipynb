{
 "cells": [
  {
   "cell_type": "code",
   "execution_count": 46,
   "id": "e0b3ae9a",
   "metadata": {},
   "outputs": [],
   "source": [
    "import asyncio\n",
    "\n"
   ]
  },
  {
   "cell_type": "code",
   "execution_count": 5,
   "id": "34cb898b",
   "metadata": {},
   "outputs": [],
   "source": [
    "async def tarefa(nome, tempo):\n",
    "    print(f'Tarefa {nome} iniciada')\n",
    "    await asyncio.sleep(tempo)\n",
    "    print(f'Tarefa {nome} finalizada')"
   ]
  },
  {
   "cell_type": "code",
   "execution_count": 6,
   "id": "229e52ea",
   "metadata": {},
   "outputs": [],
   "source": [
    "async def main():\n",
    "  await asyncio.gather(\n",
    "    tarefa('A', 2),\n",
    "    tarefa('B', 1),\n",
    "    tarefa('C', 3)\n",
    "  )"
   ]
  },
  {
   "cell_type": "code",
   "execution_count": 9,
   "id": "77456222",
   "metadata": {},
   "outputs": [],
   "source": [
    "try:\n",
    "    asyncio.get_running_loop()\n",
    "except RuntimeError:\n",
    "    asyncio.run(main())\n"
   ]
  },
  {
   "cell_type": "code",
   "execution_count": null,
   "id": "f44307c1",
   "metadata": {},
   "outputs": [
    {
     "data": {
      "text/plain": [
       "<Task pending name='Task-5' coro=<main() running at C:\\Users\\progd\\AppData\\Local\\Temp\\ipykernel_17188\\3076341417.py:1>>"
      ]
     },
     "execution_count": 10,
     "metadata": {},
     "output_type": "execute_result"
    },
    {
     "name": "stdout",
     "output_type": "stream",
     "text": [
      "Tarefa A iniciada\n",
      "Tarefa B iniciada\n",
      "Tarefa C iniciada\n",
      "Tarefa B finalizada\n",
      "Tarefa A finalizada\n",
      "Tarefa C finalizada\n"
     ]
    }
   ],
   "source": [
    "asyncio.ensure_future(main())"
   ]
  },
  {
   "cell_type": "code",
   "execution_count": 47,
   "id": "edf2632c",
   "metadata": {},
   "outputs": [],
   "source": [
    "async def buscar_usuario(session, usuario_id):\n",
    "    async with session.get(f'https://jsonplaceholder.typicode.com/users/{usuario_id}') as response:\n",
    "        return await response.json()"
   ]
  },
  {
   "cell_type": "code",
   "execution_count": 48,
   "id": "bb2da78b",
   "metadata": {},
   "outputs": [],
   "source": [
    "async def main():\n",
    "    async with aiohttp.ClientSession() as session:\n",
    "        usuario_id = [1, 2, 3, 4, 5]\n",
    "        tarefas = [buscar_usuario(session, uid) for uid in usuario_id]\n",
    "\n",
    "        # aguarda todas as tarefas\n",
    "        usuarios = await asyncio.gather(*tarefas)\n",
    "        for usuario in usuarios:\n",
    "            print(usuario)"
   ]
  },
  {
   "cell_type": "code",
   "execution_count": 49,
   "id": "5fe0e3f1",
   "metadata": {},
   "outputs": [],
   "source": [
    "try:\n",
    "    asyncio.get_running_loop()\n",
    "except RuntimeError:\n",
    "    asyncio.run(main())"
   ]
  },
  {
   "cell_type": "code",
   "execution_count": 50,
   "id": "106bb40a",
   "metadata": {},
   "outputs": [
    {
     "data": {
      "text/plain": [
       "<Task pending name='Task-21' coro=<main() running at C:\\Users\\progd\\AppData\\Local\\Temp\\ipykernel_17188\\3226648686.py:1>>"
      ]
     },
     "execution_count": 50,
     "metadata": {},
     "output_type": "execute_result"
    }
   ],
   "source": [
    "asyncio.ensure_future(main())"
   ]
  }
 ],
 "metadata": {
  "kernelspec": {
   "display_name": "Python 3",
   "language": "python",
   "name": "python3"
  },
  "language_info": {
   "codemirror_mode": {
    "name": "ipython",
    "version": 3
   },
   "file_extension": ".py",
   "mimetype": "text/x-python",
   "name": "python",
   "nbconvert_exporter": "python",
   "pygments_lexer": "ipython3",
   "version": "3.12.6"
  }
 },
 "nbformat": 4,
 "nbformat_minor": 5
}
