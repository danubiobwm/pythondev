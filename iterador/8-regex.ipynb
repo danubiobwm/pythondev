{
 "cells": [
  {
   "cell_type": "code",
   "execution_count": 1,
   "id": "5790b3ca",
   "metadata": {},
   "outputs": [],
   "source": [
    "import re"
   ]
  },
  {
   "cell_type": "code",
   "execution_count": 29,
   "id": "b93618ed",
   "metadata": {},
   "outputs": [],
   "source": [
    "def explorar_expressao_regular(texto):\n",
    "    # Definindo a expressão regular\n",
    "    padrao = r'\\bexpressão\\b'  # Captura palavras inteiras\n",
    "\n",
    "    # Encontrando todas as correspondências\n",
    "    correspondencias = re.findall(padrao, texto)\n",
    "    if re.search(padrao, texto):\n",
    "        print(\"A expressão regular encontrou correspondências.\")\n",
    "    else:\n",
    "        print(\"A expressão regular não encontrou correspondências.\")\n",
    "\n",
    "    print(\"Correspondências encontradas:\")\n",
    "    for i, correspondencia in enumerate(correspondencias, start=1):\n",
    "        print(f\"{i}: {correspondencia}\")\n",
    "\n",
    "    #Identicacao de email\n",
    "    padrao_email = r'[a-zA-Z0-9._%+-]+@[a-zA-Z0-9.-]+\\.[a-zA-Z]{2,}'\n",
    "    emails = re.findall(padrao_email, texto)\n",
    "    if emails:\n",
    "        print(\"\\nEmails encontrados:\")\n",
    "        for i, email in enumerate(emails, start=1):\n",
    "            print(f\"{i}: {email}\")\n",
    "    else:\n",
    "        print(\"\\nNenhum email encontrado.\")\n",
    "\n"
   ]
  },
  {
   "cell_type": "code",
   "execution_count": 30,
   "id": "80fb619b",
   "metadata": {},
   "outputs": [
    {
     "name": "stdout",
     "output_type": "stream",
     "text": [
      "A expressão regular encontrou correspondências.\n",
      "Correspondências encontradas:\n",
      "1: expressão\n",
      "2: expressão\n",
      "\n",
      "Emails encontrados:\n",
      "1: test@gmail.com\n"
     ]
    }
   ],
   "source": [
    "texto_exemplo = \"\"\"\n",
    "Este é um exemplo de texto.\n",
    "Ele contém várias palavras e frases. Vamos explorar expressões regulares!\n",
    "A expressão regular é uma ferramenta poderosa para manipulação de texto.\n",
    "Vamos aprender a usá-la com Python.\n",
    "test@gmail.com\n",
    "A expressão regular pode ser usada para validar formatos, como e-mails, números de telefone, etc.\n",
    "\"\"\"\n",
    "\n",
    "explorar_expressao_regular(texto_exemplo)\n",
    "\n"
   ]
  }
 ],
 "metadata": {
  "kernelspec": {
   "display_name": "Python 3",
   "language": "python",
   "name": "python3"
  },
  "language_info": {
   "codemirror_mode": {
    "name": "ipython",
    "version": 3
   },
   "file_extension": ".py",
   "mimetype": "text/x-python",
   "name": "python",
   "nbconvert_exporter": "python",
   "pygments_lexer": "ipython3",
   "version": "3.12.6"
  }
 },
 "nbformat": 4,
 "nbformat_minor": 5
}
