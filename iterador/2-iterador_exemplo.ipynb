{
 "cells": [
  {
   "cell_type": "code",
   "execution_count": 12,
   "id": "051c09af",
   "metadata": {},
   "outputs": [],
   "source": [
    "class NomesComLetra:\n",
    "    def __init__(self, nomes, letra):\n",
    "        \"\"\"\n",
    "        Inicializa um iterador para filtrar nomes que começam com uma dada letra.\n",
    "\n",
    "        Args:\n",
    "            nomes: Uma lista de strings (nomes).\n",
    "            letra: A letra com a qual os nomes devem começar.\n",
    "        \"\"\"\n",
    "        self.nomes = nomes\n",
    "        self.letra = letra.lower()  # Converter para minúsculo para comparação case-insensitive\n",
    "        self.index = 0\n",
    "\n",
    "    def __iter__(self):\n",
    "        \"\"\"Retorna o próprio objeto como iterador.\"\"\"\n",
    "        return self\n",
    "\n",
    "    def __next__(self):\n",
    "        \"\"\"Retorna o próximo nome que começa com a letra especificada.\"\"\"\n",
    "        while self.index < len(self.nomes):\n",
    "            nome = self.nomes[self.index]\n",
    "            self.index += 1\n",
    "            if nome.lower().startswith(self.letra):  # Comparação case-insensitive\n",
    "                return nome\n",
    "        raise StopIteration"
   ]
  },
  {
   "cell_type": "code",
   "execution_count": 17,
   "id": "70ab34e5",
   "metadata": {},
   "outputs": [
    {
     "name": "stdout",
     "output_type": "stream",
     "text": [
      "Daniel\n",
      "--------------------\n",
      "Júlia\n"
     ]
    }
   ],
   "source": [
    "lista = ['Ana', 'Bia', 'Carlos', 'Daniel', 'Eduardo', 'Fernanda', 'Gabriel', 'Heloísa', 'Igor', 'Júlia']\n",
    "iterador = NomesComLetra(lista, \"D\")\n",
    "\n",
    "for nome in iterador:\n",
    "    print(nome)\n",
    "\n",
    "print(\"-\" * 20)\n",
    "\n",
    "iterador = NomesComLetra(lista, \"J\")\n",
    "for nome in iterador:\n",
    "    print(nome)"
   ]
  }
 ],
 "metadata": {
  "kernelspec": {
   "display_name": "Python 3",
   "language": "python",
   "name": "python3"
  },
  "language_info": {
   "codemirror_mode": {
    "name": "ipython",
    "version": 3
   },
   "file_extension": ".py",
   "mimetype": "text/x-python",
   "name": "python",
   "nbconvert_exporter": "python",
   "pygments_lexer": "ipython3",
   "version": "3.12.6"
  }
 },
 "nbformat": 4,
 "nbformat_minor": 5
}
