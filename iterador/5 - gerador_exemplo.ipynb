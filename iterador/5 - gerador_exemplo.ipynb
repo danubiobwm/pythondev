{
 "cells": [
  {
   "cell_type": "code",
   "execution_count": 16,
   "id": "ee395df4",
   "metadata": {},
   "outputs": [],
   "source": [
    "def linhas_com_numeros_de_palavras(arquivo, numero):\n",
    "  with open(arquivo, 'r', encoding='utf-8') as file:\n",
    "    for linha in file:\n",
    "      if len(linha.split()) == numero:\n",
    "        yield linha.strip()"
   ]
  },
  {
   "cell_type": "code",
   "execution_count": 21,
   "id": "f382b816",
   "metadata": {},
   "outputs": [
    {
     "name": "stdout",
     "output_type": "stream",
     "text": [
      "Python e facil\n",
      "Ruby é interessante.\n"
     ]
    }
   ],
   "source": [
    "arquivo = 'texto.txt'\n",
    "numero_palavras = 3\n",
    "\n",
    "# Ensure the file exists and has content\n",
    "try:\n",
    "    for linha in linhas_com_numeros_de_palavras(arquivo, numero_palavras):\n",
    "        print(linha)\n",
    "except FileNotFoundError:\n",
    "    print(f\"Error: The file '{arquivo}' does not exist.\")\n",
    "except Exception as e:\n",
    "    print(f\"An error occurred: {e}\")"
   ]
  },
  {
   "cell_type": "code",
   "execution_count": null,
   "id": "8096c714",
   "metadata": {},
   "outputs": [],
   "source": []
  }
 ],
 "metadata": {
  "kernelspec": {
   "display_name": "Python 3",
   "language": "python",
   "name": "python3"
  },
  "language_info": {
   "codemirror_mode": {
    "name": "ipython",
    "version": 3
   },
   "file_extension": ".py",
   "mimetype": "text/x-python",
   "name": "python",
   "nbconvert_exporter": "python",
   "pygments_lexer": "ipython3",
   "version": "3.12.6"
  }
 },
 "nbformat": 4,
 "nbformat_minor": 5
}
