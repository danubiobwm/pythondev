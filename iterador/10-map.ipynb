{
 "cells": [
  {
   "cell_type": "markdown",
   "id": "9c4311d0",
   "metadata": {},
   "source": [
    "MAP \n",
    "- Funçao que aplica uma função a todos os itens de um iterável (uma lista, por exemplo)\n",
    "- é uma maneira eficiente e consisa de transformar dados."
   ]
  },
  {
   "cell_type": "code",
   "execution_count": 1,
   "id": "09213a5a",
   "metadata": {},
   "outputs": [],
   "source": [
    "def quadrado(x):\n",
    "  return x ** 2"
   ]
  },
  {
   "cell_type": "code",
   "execution_count": 2,
   "id": "4d547241",
   "metadata": {},
   "outputs": [
    {
     "name": "stdout",
     "output_type": "stream",
     "text": [
      "[1, 4, 9, 16, 25]\n"
     ]
    }
   ],
   "source": [
    "numeros = [1, 2, 3, 4, 5]\n",
    "quadrados = list(map(quadrado, numeros))\n",
    "print(quadrados)"
   ]
  },
  {
   "cell_type": "code",
   "execution_count": 4,
   "id": "83cfea84",
   "metadata": {},
   "outputs": [
    {
     "data": {
      "text/plain": [
       "[1, 4, 9, 16, 25]"
      ]
     },
     "execution_count": 4,
     "metadata": {},
     "output_type": "execute_result"
    }
   ],
   "source": [
    "resultados = map(quadrado, numeros)\n",
    "list(resultados)"
   ]
  },
  {
   "cell_type": "code",
   "execution_count": 5,
   "id": "21fc81d9",
   "metadata": {},
   "outputs": [],
   "source": [
    "def celsius_para_fahrenheit(celsius):\n",
    "  return celsius * 9 / 5 + 32"
   ]
  },
  {
   "cell_type": "code",
   "execution_count": 8,
   "id": "bdd03040",
   "metadata": {},
   "outputs": [
    {
     "data": {
      "text/plain": [
       "[32.0, 68.0, 98.6, 212.0]"
      ]
     },
     "execution_count": 8,
     "metadata": {},
     "output_type": "execute_result"
    }
   ],
   "source": [
    "temperaturas_celsius = [0, 20, 37, 100]\n",
    "temperaturas_fahrenheit = list(map(celsius_para_fahrenheit, temperaturas_celsius))\n",
    "list(temperaturas_fahrenheit)"
   ]
  },
  {
   "cell_type": "markdown",
   "id": "4c731809",
   "metadata": {},
   "source": []
  },
  {
   "cell_type": "code",
   "execution_count": 15,
   "id": "c2f346d8",
   "metadata": {},
   "outputs": [],
   "source": [
    "def normalizar_nomes(nome):\n",
    "  return nome.strip().lower()"
   ]
  },
  {
   "cell_type": "code",
   "execution_count": 16,
   "id": "bfbe03a1",
   "metadata": {},
   "outputs": [
    {
     "data": {
      "text/plain": [
       "['ana', 'beto', 'carla', 'lucas']"
      ]
     },
     "execution_count": 16,
     "metadata": {},
     "output_type": "execute_result"
    }
   ],
   "source": [
    "nomes = ['  Ana ', '  BETO ', '  carla ', 'LUcAs  ']\n",
    "nomes_normalizados = list(map(normalizar_nomes, nomes))\n",
    "list(nomes_normalizados)"
   ]
  }
 ],
 "metadata": {
  "kernelspec": {
   "display_name": "Python 3",
   "language": "python",
   "name": "python3"
  },
  "language_info": {
   "codemirror_mode": {
    "name": "ipython",
    "version": 3
   },
   "file_extension": ".py",
   "mimetype": "text/x-python",
   "name": "python",
   "nbconvert_exporter": "python",
   "pygments_lexer": "ipython3",
   "version": "3.12.6"
  }
 },
 "nbformat": 4,
 "nbformat_minor": 5
}
