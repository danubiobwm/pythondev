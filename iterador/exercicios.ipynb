{
 "cells": [
  {
   "cell_type": "code",
   "execution_count": 1,
   "id": "f9a4f47a",
   "metadata": {},
   "outputs": [],
   "source": [
    "import re"
   ]
  },
  {
   "cell_type": "code",
   "execution_count": 6,
   "id": "8439d276",
   "metadata": {},
   "outputs": [],
   "source": [
    "def extrair_url(text):\n",
    "  padrao_url = r'https?://[a-zA-Z0-9.-]+\\.[a-zA-Z]{2,}'\n",
    "  urls = re.findall(padrao_url, text)\n",
    "  return urls\n"
   ]
  },
  {
   "cell_type": "code",
   "execution_count": 7,
   "id": "442a9075",
   "metadata": {},
   "outputs": [
    {
     "name": "stdout",
     "output_type": "stream",
     "text": [
      "URLs extraídas: ['https://www.exemplo.com', 'http://subdominio.exemplo.org', 'https://exemplo.net.br']\n"
     ]
    }
   ],
   "source": [
    "exemplo_texto = \"\"\"\n",
    "  Aqui estão algumas URLs:\n",
    "  https://www.exemplo.com, http://subdominio.exemplo.org/pagina, e https://exemplo.net.br/caminho?param=valor.\n",
    "  Além disso, temos um link inválido: http://exemplo, e outro sem http: www.exemplo.com.\n",
    "  \"\"\"\n",
    "\n",
    "urls_extraidas = extrair_url(exemplo_texto)\n",
    "print(\"URLs extraídas:\", urls_extraidas)"
   ]
  },
  {
   "cell_type": "code",
   "execution_count": 10,
   "id": "39492fdc",
   "metadata": {},
   "outputs": [],
   "source": [
    "def validar_senha(senha):\n",
    "    padrao_senha = r'^(?=.*[a-z])(?=.*[A-Z])(?=.*\\d)(?=.*[@$!%*?&])[A-Za-z\\d@$!%*?&]{8,}$'\n",
    "    return bool(re.match(padrao_senha, senha))\n",
    "    #return re.match(padrao_senha, senha) is not None"
   ]
  },
  {
   "cell_type": "code",
   "execution_count": 19,
   "id": "94306f26",
   "metadata": {},
   "outputs": [
    {
     "name": "stdout",
     "output_type": "stream",
     "text": [
      "Senha válida: SenhaForte123!\n",
      "Senha inválida: senha\n",
      "Senha inválida: SENHA123\n",
      "Senha válida: Senha123!\n",
      "Senha inválida: Senha!\n",
      "Senha inválida: 12345678\n",
      "Senha válida: Senha@123\n"
     ]
    }
   ],
   "source": [
    "\n",
    "# senha = \"SenhaForte123!\"\n",
    "# #senha = \"Senha\"\n",
    "# if validar_senha(senha):\n",
    "#     print(\"Senha válida.\")\n",
    "# else:\n",
    "#     print(\"Senha inválida. Deve conter pelo menos 8 caracteres, uma letra minúscula, uma letra maiúscula, um número e um caractere especial.\")\n",
    "senhas = [\"SenhaForte123!\", \"senha\", \"SENHA123\", \"Senha123!\", \"Senha!\", \"12345678\", \"Senha@123\"]\n",
    "for senha in senhas:\n",
    "    if validar_senha(senha):\n",
    "        print(f\"Senha válida: {senha}\")\n",
    "    else:\n",
    "        print(f\"Senha inválida: {senha}\")"
   ]
  },
  {
   "cell_type": "code",
   "execution_count": 21,
   "id": "0c5a26cb",
   "metadata": {},
   "outputs": [],
   "source": [
    "def contar_palavras(text):\n",
    "    padrao_palavra = r'\\b\\w+\\b'\n",
    "    palavras = re.findall(padrao_palavra, text)\n",
    "    return len(palavras)"
   ]
  },
  {
   "cell_type": "code",
   "execution_count": 23,
   "id": "59cfc1d9",
   "metadata": {},
   "outputs": [
    {
     "data": {
      "text/plain": [
       "20"
      ]
     },
     "execution_count": 23,
     "metadata": {},
     "output_type": "execute_result"
    }
   ],
   "source": [
    "texto_exemplo = \"\"\"\n",
    "  Este é um exemplo de texto.\n",
    "  Ele contém várias palavras, incluindo algumas repetições.\n",
    "  Vamos contar quantas palavras existem neste texto.\n",
    "  \"\"\"\n",
    "contar_palavras(texto_exemplo)"
   ]
  }
 ],
 "metadata": {
  "kernelspec": {
   "display_name": "Python 3",
   "language": "python",
   "name": "python3"
  },
  "language_info": {
   "codemirror_mode": {
    "name": "ipython",
    "version": 3
   },
   "file_extension": ".py",
   "mimetype": "text/x-python",
   "name": "python",
   "nbconvert_exporter": "python",
   "pygments_lexer": "ipython3",
   "version": "3.12.6"
  }
 },
 "nbformat": 4,
 "nbformat_minor": 5
}
