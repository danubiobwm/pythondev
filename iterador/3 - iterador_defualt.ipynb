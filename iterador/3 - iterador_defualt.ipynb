{
 "cells": [
  {
   "cell_type": "code",
   "execution_count": 1,
   "id": "c53bd88e",
   "metadata": {},
   "outputs": [],
   "source": [
    "import itertools"
   ]
  },
  {
   "cell_type": "code",
   "execution_count": 2,
   "id": "21ebc4cc",
   "metadata": {},
   "outputs": [
    {
     "name": "stdout",
     "output_type": "stream",
     "text": [
      "0\n",
      "1\n",
      "2\n",
      "3\n",
      "4\n"
     ]
    }
   ],
   "source": [
    "for i in range(5):\n",
    "    print(i)\n"
   ]
  },
  {
   "cell_type": "code",
   "execution_count": 18,
   "id": "8df04f74",
   "metadata": {},
   "outputs": [
    {
     "name": "stdout",
     "output_type": "stream",
     "text": [
      "maça\n",
      "banana\n",
      "laranja\n"
     ]
    }
   ],
   "source": [
    "frutas = [\"maça\", \"banana\", \"laranja\"]\n",
    "for fruta in frutas:\n",
    "    print(fruta)"
   ]
  },
  {
   "cell_type": "code",
   "execution_count": 5,
   "id": "d00b5d3c",
   "metadata": {},
   "outputs": [
    {
     "name": "stdout",
     "output_type": "stream",
     "text": [
      "a 1\n",
      "b 2\n",
      "c 3\n"
     ]
    }
   ],
   "source": [
    "# itera Diciionário\n",
    "d = {\"a\": 1, \"b\": 2, \"c\": 3}\n",
    "for k, v in d.items():\n",
    "    print(k, v)"
   ]
  },
  {
   "cell_type": "code",
   "execution_count": 6,
   "id": "267ba259",
   "metadata": {},
   "outputs": [
    {
     "name": "stdout",
     "output_type": "stream",
     "text": [
      "nome: João\n",
      "idade: 30\n",
      "cidade: São Paulo\n"
     ]
    }
   ],
   "source": [
    "pessoa = {\"nome\": \"João\", \"idade\": 30, \"cidade\": \"São Paulo\"}\n",
    "for chave, valor in pessoa.items():\n",
    "    print(f\"{chave}: {valor}\")"
   ]
  },
  {
   "cell_type": "code",
   "execution_count": 19,
   "id": "7cb61d9c",
   "metadata": {},
   "outputs": [
    {
     "name": "stdout",
     "output_type": "stream",
     "text": [
      "0 maça\n",
      "1 banana\n",
      "2 laranja\n"
     ]
    }
   ],
   "source": [
    "\n",
    "for indice, fruta in enumerate(frutas):\n",
    "    print(indice,fruta)"
   ]
  },
  {
   "cell_type": "code",
   "execution_count": 20,
   "id": "78b256c4",
   "metadata": {},
   "outputs": [
    {
     "name": "stdout",
     "output_type": "stream",
     "text": [
      "Ana tem 25 anos\n",
      "Bruno tem 30 anos\n",
      "Carlos tem 35 anos\n"
     ]
    }
   ],
   "source": [
    "nomes = [\"Ana\", \"Bruno\", \"Carlos\"]\n",
    "idades = [25, 30, 35]\n",
    "for nome, idade in zip(nomes, idades):\n",
    "    print(f\"{nome} tem {idade} anos\")"
   ]
  },
  {
   "cell_type": "code",
   "execution_count": null,
   "id": "5d08376e",
   "metadata": {},
   "outputs": [],
   "source": []
  }
 ],
 "metadata": {
  "kernelspec": {
   "display_name": "Python 3",
   "language": "python",
   "name": "python3"
  },
  "language_info": {
   "codemirror_mode": {
    "name": "ipython",
    "version": 3
   },
   "file_extension": ".py",
   "mimetype": "text/x-python",
   "name": "python",
   "nbconvert_exporter": "python",
   "pygments_lexer": "ipython3",
   "version": "3.12.6"
  }
 },
 "nbformat": 4,
 "nbformat_minor": 5
}
