{
 "cells": [
  {
   "cell_type": "code",
   "execution_count": 1,
   "id": "93d9aba6",
   "metadata": {},
   "outputs": [],
   "source": [
    "numeros = [ 5, 12, 3, 18, 7, 20]"
   ]
  },
  {
   "cell_type": "code",
   "execution_count": 5,
   "id": "f40902c3",
   "metadata": {},
   "outputs": [
    {
     "data": {
      "text/plain": [
       "[12, 18, 20]"
      ]
     },
     "execution_count": 5,
     "metadata": {},
     "output_type": "execute_result"
    }
   ],
   "source": [
    "# filtrar e armazenar os números maiores que 10\n",
    "maiores_que_dez = [n for n  in numeros if (maior:=n ) > 10]\n",
    "\n",
    "maiores_que_dez\n"
   ]
  },
  {
   "cell_type": "code",
   "execution_count": null,
   "id": "3b4231a0",
   "metadata": {},
   "outputs": [],
   "source": []
  },
  {
   "cell_type": "code",
   "execution_count": 8,
   "id": "5739808e",
   "metadata": {},
   "outputs": [
    {
     "name": "stdout",
     "output_type": "stream",
     "text": [
      "['Olá mundo', 'esta e uma linha.', 'Python e facil', 'Ruby é interessante.', 'Teste']\n"
     ]
    }
   ],
   "source": [
    "linha_processadas = []\n",
    "with open (\"texto.txt\", \"r\", encoding=\"utf-8\") as arquivo:\n",
    "    for linha in arquivo:\n",
    "        if (linha_processada := linha.strip()) != \"\":\n",
    "            linha_processadas.append(linha_processada)\n",
    "print(linha_processadas)"
   ]
  }
 ],
 "metadata": {
  "kernelspec": {
   "display_name": "Python 3",
   "language": "python",
   "name": "python3"
  },
  "language_info": {
   "codemirror_mode": {
    "name": "ipython",
    "version": 3
   },
   "file_extension": ".py",
   "mimetype": "text/x-python",
   "name": "python",
   "nbconvert_exporter": "python",
   "pygments_lexer": "ipython3",
   "version": "3.12.6"
  }
 },
 "nbformat": 4,
 "nbformat_minor": 5
}
