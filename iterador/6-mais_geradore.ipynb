{
 "cells": [
  {
   "cell_type": "code",
   "execution_count": null,
   "id": "bb5261ba",
   "metadata": {},
   "outputs": [
    {
     "name": "stdout",
     "output_type": "stream",
     "text": [
      "1\n",
      "4\n",
      "9\n",
      "16\n",
      "25\n",
      "36\n",
      "49\n",
      "64\n",
      "81\n",
      "100\n"
     ]
    }
   ],
   "source": [
    "# Gerador de expressao\n",
    "quadrados = (x ** 2 for x in range(1, 11))\n",
    "for quadrado in quadrados:\n",
    "    print(quadrado)\n"
   ]
  },
  {
   "cell_type": "code",
   "execution_count": 3,
   "id": "52224f5b",
   "metadata": {},
   "outputs": [
    {
     "name": "stdout",
     "output_type": "stream",
     "text": [
      "1\n",
      "2\n",
      "3\n",
      "4\n",
      "5\n",
      "6\n",
      "7\n",
      "8\n",
      "9\n",
      "10\n"
     ]
    }
   ],
   "source": [
    "def contador_infinito():\n",
    "    n = 1\n",
    "    while True:\n",
    "        yield n\n",
    "        n += 1\n",
    "\n",
    "contador = contador_infinito()\n",
    "for i in range(10):\n",
    "    print(next(contador))"
   ]
  },
  {
   "cell_type": "code",
   "execution_count": 5,
   "id": "e4720c8a",
   "metadata": {},
   "outputs": [
    {
     "data": {
      "text/plain": [
       "60"
      ]
     },
     "execution_count": 5,
     "metadata": {},
     "output_type": "execute_result"
    }
   ],
   "source": [
    "# Coleta de Valores com send()\n",
    "def gerador_soma():\n",
    "    total = 0\n",
    "    while True:\n",
    "        valor = yield total\n",
    "        if valor is not None:\n",
    "            total += valor\n",
    "\n",
    "soma = gerador_soma()\n",
    "next(soma)  # Inicializa o gerador\n",
    "soma.send(10)  # Envia o valor 10\n",
    "soma.send(20)  # Envia o valor 20\n",
    "soma.send(30)  # Envia o valor 30"
   ]
  },
  {
   "cell_type": "code",
   "execution_count": null,
   "id": "3e4d5351",
   "metadata": {},
   "outputs": [
    {
     "ename": "TypeError",
     "evalue": "'int' object is not an iterator",
     "output_type": "error",
     "traceback": [
      "\u001b[31m---------------------------------------------------------------------------\u001b[39m",
      "\u001b[31mTypeError\u001b[39m                                 Traceback (most recent call last)",
      "\u001b[36mCell\u001b[39m\u001b[36m \u001b[39m\u001b[32mIn[7]\u001b[39m\u001b[32m, line 11\u001b[39m\n\u001b[32m      8\u001b[39m         \u001b[38;5;28mprint\u001b[39m(\u001b[33m\"\u001b[39m\u001b[33mValor inválido recebido!\u001b[39m\u001b[33m\"\u001b[39m)\n\u001b[32m     10\u001b[39m g = gerador_excecao()\n\u001b[32m---> \u001b[39m\u001b[32m11\u001b[39m \u001b[38;5;28;43mnext\u001b[39;49m\u001b[43m(\u001b[49m\u001b[32;43m10\u001b[39;49m\u001b[43m)\u001b[49m  \u001b[38;5;66;03m# Inicializa o gerador\u001b[39;00m\n\u001b[32m     12\u001b[39m g.send(\u001b[32m10\u001b[39m)  \u001b[38;5;66;03m# Envia o valor 10\u001b[39;00m\n\u001b[32m     13\u001b[39m g.throw(\u001b[38;5;167;01mValueError\u001b[39;00m)  \u001b[38;5;66;03m# Lança uma exceção ValueError\u001b[39;00m\n",
      "\u001b[31mTypeError\u001b[39m: 'int' object is not an iterator"
     ]
    }
   ],
   "source": [
    "# Tratamento de Exceções\n",
    "def gerador_excecao():\n",
    "    try:\n",
    "      while True:\n",
    "          valor = yield\n",
    "          print(f\"Recebido: {valor}\")\n",
    "    except ValueError:\n",
    "        print(\"Valor inválido recebido!\")\n",
    "\n",
    "g = gerador_excecao()\n",
    "next(g)  # Inicializa o gerador\n",
    "g.send(10)  # Envia o valor 10\n",
    "g.throw(ValueError)  # Lança uma exceção ValueError"
   ]
  },
  {
   "cell_type": "code",
   "execution_count": 17,
   "id": "fc2b3773",
   "metadata": {},
   "outputs": [
    {
     "name": "stdout",
     "output_type": "stream",
     "text": [
      "5\n",
      "7\n",
      "9\n",
      "11\n",
      "13\n"
     ]
    }
   ],
   "source": [
    "#Cascata de Geradores\n",
    "def multiplicar_por_dois(iterable):\n",
    "    for i in iterable:\n",
    "        yield i * 2\n",
    "\n",
    "def adicionar_cinco(iterable):\n",
    "    for i in iterable:\n",
    "        yield i + 5\n",
    "\n",
    "\n",
    "numeros = range(5)\n",
    "resultado = adicionar_cinco(multiplicar_por_dois(numeros))\n",
    "for i in resultado:\n",
    "    print(i)\n",
    "\n",
    "\n"
   ]
  }
 ],
 "metadata": {
  "kernelspec": {
   "display_name": "Python 3",
   "language": "python",
   "name": "python3"
  },
  "language_info": {
   "codemirror_mode": {
    "name": "ipython",
    "version": 3
   },
   "file_extension": ".py",
   "mimetype": "text/x-python",
   "name": "python",
   "nbconvert_exporter": "python",
   "pygments_lexer": "ipython3",
   "version": "3.12.6"
  }
 },
 "nbformat": 4,
 "nbformat_minor": 5
}
